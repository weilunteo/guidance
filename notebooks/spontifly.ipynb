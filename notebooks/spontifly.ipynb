{
 "cells": [
  {
   "cell_type": "code",
   "execution_count": 11,
   "id": "2f507ccd",
   "metadata": {},
   "outputs": [],
   "source": [
    "# pip install guidance\n",
    "# pip install python-dotenv"
   ]
  },
  {
   "cell_type": "code",
   "execution_count": 38,
   "id": "1c04811b",
   "metadata": {},
   "outputs": [],
   "source": [
    "import guidance\n",
    "\n",
    "# we will use GPT-3 for most of the examples in this tutorial\n",
    "guidance.llm = guidance.llms.OpenAI(\"text-davinci-003\")"
   ]
  },
  {
   "cell_type": "code",
   "execution_count": 42,
   "id": "5e1dbb46",
   "metadata": {},
   "outputs": [
    {
     "data": {
      "text/plain": [
       "True"
      ]
     },
     "execution_count": 42,
     "metadata": {},
     "output_type": "execute_result"
    }
   ],
   "source": [
    "from dotenv import load_dotenv\n",
    "\n",
    "load_dotenv()"
   ]
  },
  {
   "cell_type": "code",
   "execution_count": 44,
   "id": "8a45ece2",
   "metadata": {},
   "outputs": [
    {
     "name": "stdout",
     "output_type": "stream",
     "text": [
      "Traceback (most recent call last):\n",
      "  File \"/Users/weilunteo/opt/anaconda3/lib/python3.8/site-packages/guidance/_program_executor.py\", line 109, in run\n",
      "    await self.visit(self.parse_tree, VariableStack([self.program._variables], self))\n",
      "  File \"/Users/weilunteo/opt/anaconda3/lib/python3.8/site-packages/guidance/_program_executor.py\", line 559, in visit\n",
      "    visited_children.append(await self.visit(child, variable_stack, inner_next_node, inner_next_next_node, inner_prev_node, node, parent_node))\n",
      "  File \"/Users/weilunteo/opt/anaconda3/lib/python3.8/site-packages/guidance/_program_executor.py\", line 524, in visit\n",
      "    command_output = await command_function(*positional_args, **named_args)\n",
      "  File \"/Users/weilunteo/opt/anaconda3/lib/python3.8/site-packages/guidance/library/_select.py\", line 151, in select\n",
      "    option_logprobs = await recursive_select([])\n",
      "  File \"/Users/weilunteo/opt/anaconda3/lib/python3.8/site-packages/guidance/library/_select.py\", line 107, in recursive_select\n",
      "    gen_obj = await parser.llm_session(\n",
      "  File \"/Users/weilunteo/opt/anaconda3/lib/python3.8/site-packages/guidance/llms/_openai.py\", line 676, in __call__\n",
      "    raise Exception(f\"Too many (more than {self.llm.max_retries}) OpenAI API RateLimitError's in a row!\")\n",
      "Exception: Too many (more than 5) OpenAI API RateLimitError's in a row!\n",
      "\n",
      "Error in program:  Too many (more than 5) OpenAI API RateLimitError's in a row!\n"
     ]
    },
    {
     "ename": "KeyError",
     "evalue": "'answer'",
     "output_type": "error",
     "traceback": [
      "\u001b[0;31m---------------------------------------------------------------------------\u001b[0m",
      "\u001b[0;31mKeyError\u001b[0m                                  Traceback (most recent call last)",
      "\u001b[0;32m<ipython-input-44-bb1fd4fda742>\u001b[0m in \u001b[0;36m<module>\u001b[0;34m\u001b[0m\n\u001b[1;32m      4\u001b[0m Answer:{{#select \"answer\" logprobs='logprobs'}} Yes{{or}} No{{or}} Maybe{{/select}}''')\n\u001b[1;32m      5\u001b[0m \u001b[0mprompt\u001b[0m \u001b[0;34m=\u001b[0m \u001b[0mprogram\u001b[0m\u001b[0;34m(\u001b[0m\u001b[0mexample\u001b[0m\u001b[0;34m=\u001b[0m\u001b[0;34m'I hate tacos'\u001b[0m\u001b[0;34m)\u001b[0m\u001b[0;34m\u001b[0m\u001b[0;34m\u001b[0m\u001b[0m\n\u001b[0;32m----> 6\u001b[0;31m \u001b[0mout\u001b[0m\u001b[0;34m[\u001b[0m\u001b[0;34m\"answer\"\u001b[0m\u001b[0;34m]\u001b[0m\u001b[0;34m\u001b[0m\u001b[0;34m\u001b[0m\u001b[0m\n\u001b[0m",
      "\u001b[0;32m~/opt/anaconda3/lib/python3.8/site-packages/guidance/_program.py\u001b[0m in \u001b[0;36m__getitem__\u001b[0;34m(self, key)\u001b[0m\n\u001b[1;32m    468\u001b[0m \u001b[0;34m\u001b[0m\u001b[0m\n\u001b[1;32m    469\u001b[0m     \u001b[0;32mdef\u001b[0m \u001b[0m__getitem__\u001b[0m\u001b[0;34m(\u001b[0m\u001b[0mself\u001b[0m\u001b[0;34m,\u001b[0m \u001b[0mkey\u001b[0m\u001b[0;34m)\u001b[0m\u001b[0;34m:\u001b[0m\u001b[0;34m\u001b[0m\u001b[0;34m\u001b[0m\u001b[0m\n\u001b[0;32m--> 470\u001b[0;31m         \u001b[0;32mreturn\u001b[0m \u001b[0mself\u001b[0m\u001b[0;34m.\u001b[0m\u001b[0m_variables\u001b[0m\u001b[0;34m[\u001b[0m\u001b[0mkey\u001b[0m\u001b[0;34m]\u001b[0m\u001b[0;34m\u001b[0m\u001b[0;34m\u001b[0m\u001b[0m\n\u001b[0m\u001b[1;32m    471\u001b[0m \u001b[0;34m\u001b[0m\u001b[0m\n\u001b[1;32m    472\u001b[0m     \u001b[0;32mdef\u001b[0m \u001b[0m__contains__\u001b[0m\u001b[0;34m(\u001b[0m\u001b[0mself\u001b[0m\u001b[0;34m,\u001b[0m \u001b[0mkey\u001b[0m\u001b[0;34m)\u001b[0m\u001b[0;34m:\u001b[0m\u001b[0;34m\u001b[0m\u001b[0;34m\u001b[0m\u001b[0m\n",
      "\u001b[0;31mKeyError\u001b[0m: 'answer'"
     ]
    }
   ],
   "source": [
    "# the {{#select}} command allows you to use the LLM to select from a set of options\n",
    "program = guidance('''Is the following sentence offensive? Please answer with a single word, either \"Yes\", \"No\", or \"Maybe\".\n",
    "Sentence: {{example}}\n",
    "Answer:{{#select \"answer\" logprobs='logprobs'}} Yes{{or}} No{{or}} Maybe{{/select}}''')\n",
    "prompt = program(example='I hate tacos')\n",
    "out[\"answer\"]"
   ]
  },
  {
   "cell_type": "code",
   "execution_count": null,
   "id": "68d451fc",
   "metadata": {},
   "outputs": [],
   "source": []
  }
 ],
 "metadata": {
  "kernelspec": {
   "display_name": "Python 3",
   "language": "python",
   "name": "python3"
  },
  "language_info": {
   "codemirror_mode": {
    "name": "ipython",
    "version": 3
   },
   "file_extension": ".py",
   "mimetype": "text/x-python",
   "name": "python",
   "nbconvert_exporter": "python",
   "pygments_lexer": "ipython3",
   "version": "3.8.8"
  }
 },
 "nbformat": 4,
 "nbformat_minor": 5
}
